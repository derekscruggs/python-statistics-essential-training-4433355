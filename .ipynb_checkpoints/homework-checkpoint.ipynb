{
 "cells": [
  {
   "cell_type": "code",
   "execution_count": 14,
   "id": "6fc0e197-20fe-42ae-9e91-6353540c465e",
   "metadata": {},
   "outputs": [
    {
     "data": {
      "text/plain": [
       "Order             uint16[pyarrow]\n",
       "PID               uint32[pyarrow]\n",
       "MS SubClass        uint8[pyarrow]\n",
       "MS Zoning                category\n",
       "Lot Frontage      uint16[pyarrow]\n",
       "                       ...       \n",
       "Mo Sold            uint8[pyarrow]\n",
       "Yr Sold           uint16[pyarrow]\n",
       "Sale Type                category\n",
       "Sale Condition           category\n",
       "SalePrice         uint32[pyarrow]\n",
       "Length: 82, dtype: object"
      ]
     },
     "execution_count": 14,
     "metadata": {},
     "output_type": "execute_result"
    }
   ],
   "source": [
    "# Create a cell containing all the imports for this notebook\n",
    "# Create a cell with the clean_housing and shrink_ints functions\n",
    "# Add code to load the raw data and create a housing variable from calling clean_housing\n",
    "# Move those cells to the top of the notebook\n",
    "# Restart the notebook and make sure that those cells work\n",
    "import pandas as pd\n",
    "import numpy as np\n",
    "url = 'data/ames-housing-dataset.zip'\n",
    "\n",
    "raw = pd.read_csv(url,engine=\"pyarrow\", dtype_backend=\"pyarrow\")\n",
    "\n",
    "def shrink_ints(df):\n",
    "    mapping = {}\n",
    "    for col in df.dtypes[df.dtypes==\"int64[pyarrow]\"].index:\n",
    "        max_ = df[col].max()\n",
    "        min_ = df[col].min()\n",
    "        if min_ < 0:\n",
    "            continue\n",
    "        if max_ < 255:\n",
    "            mapping[col] = \"uint8[pyarrow]\"\n",
    "        elif max_ < 65_535:\n",
    "            mapping[col] = \"uint16[pyarrow]\"\n",
    "        elif max_< 4_294_967_295:\n",
    "            mapping[col] = \"uint32[pyarrow]\"\n",
    "    return df.astype(mapping)\n",
    "\n",
    "\n",
    "def clean_housing(df):\n",
    "    return (df\n",
    "        .assign(**df.select_dtypes('string').replace('','Missing').astype('category'),\n",
    "                **{'Garage Yr Blt':df['Garage Yr Blt'].clip(upper=df['Year Built'].max())})\n",
    "        .pipe(shrink_ints)\n",
    "    )\n",
    "\n",
    "clean_housing(raw).dtypes"
   ]
  }
 ],
 "metadata": {
  "kernelspec": {
   "display_name": "Python 3 (ipykernel)",
   "language": "python",
   "name": "python3"
  },
  "language_info": {
   "codemirror_mode": {
    "name": "ipython",
    "version": 3
   },
   "file_extension": ".py",
   "mimetype": "text/x-python",
   "name": "python",
   "nbconvert_exporter": "python",
   "pygments_lexer": "ipython3",
   "version": "3.11.5"
  }
 },
 "nbformat": 4,
 "nbformat_minor": 5
}
